{
 "cells": [
  {
   "cell_type": "code",
   "execution_count": 22,
   "id": "f394e2ed",
   "metadata": {},
   "outputs": [],
   "source": [
    "import librosa\n",
    "import soundfile\n",
    "import matplotlib.pyplot as plt\n",
    "import seaborn as sns"
   ]
  },
  {
   "cell_type": "code",
   "execution_count": 27,
   "id": "ba32a519",
   "metadata": {},
   "outputs": [],
   "source": [
    "# mp3_path = r'C:\\projects\\montague_archiving\\data\\Interviews_Anita-Feferman-interviews_NEW_2025\\SC1206_b01_03_a_sl_Gaifman_PROBLEM.mp3'\n",
    "mp3_path = r'C:\\projects\\montague_archiving\\data\\Interviews_Anita-Feferman-interviews_NEW_2025\\SC1206_b03_11_a_sl_Scott_PROBLEM_0-38_Sol-talk-after.mp3'"
   ]
  },
  {
   "cell_type": "code",
   "execution_count": 28,
   "id": "b9de2a53",
   "metadata": {},
   "outputs": [],
   "source": [
    "wav, sr=librosa.load(mp3_path)"
   ]
  },
  {
   "cell_type": "code",
   "execution_count": null,
   "id": "e39afb07",
   "metadata": {},
   "outputs": [],
   "source": [
    "wav_2 = librosa.resample(y=wav, orig_sr=sr, target_sr=sr//2)\n",
    "wav_2_file = mp3_path.replace('.mp3', '2_speed.wav')\n",
    "soundfile.write(wav_2_file, wav_2, samplerate=sr)"
   ]
  }
 ],
 "metadata": {
  "kernelspec": {
   "display_name": "montague_archiving",
   "language": "python",
   "name": "python3"
  },
  "language_info": {
   "codemirror_mode": {
    "name": "ipython",
    "version": 3
   },
   "file_extension": ".py",
   "mimetype": "text/x-python",
   "name": "python",
   "nbconvert_exporter": "python",
   "pygments_lexer": "ipython3",
   "version": "3.12.10"
  }
 },
 "nbformat": 4,
 "nbformat_minor": 5
}
